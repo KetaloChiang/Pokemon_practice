{
 "cells": [
  {
   "cell_type": "markdown",
   "metadata": {},
   "source": [
    "Python data visualization practice"
   ]
  },
  {
   "cell_type": "markdown",
   "metadata": {},
   "source": [
    "Question 1: Use python argument to print Hellow world"
   ]
  },
  {
   "cell_type": "code",
   "execution_count": null,
   "metadata": {
    "collapsed": true
   },
   "outputs": [],
   "source": [
    "print Hellow world"
   ]
  },
  {
   "cell_type": "code",
   "execution_count": null,
   "metadata": {
    "slideshow": {
     "slide_type": "slide"
    }
   },
   "outputs": [],
   "source": [
    "# Import essential libraby for plotting\n",
    "import numpy as np\n",
    "import pandas as pd\n",
    "import matplotlib.pyplot as plt\n",
    "from plotly import tools\n",
    "import plotly.plotly as py\n",
    "import seaborn as sns\n",
    "from plotly.offline import init_notebook_mode, iplot\n",
    "init_notebook_mode(connected=True)\n",
    "import plotly.graph_objs as go\n",
    "import plotly.figure_factory as ff\n",
    "from IPython.display import HTML, Image\n",
    "\n",
    "# special command to show figure in jupyter notbook\n",
    "%matplotlib inline \n"
   ]
  },
  {
   "cell_type": "code",
   "execution_count": null,
   "metadata": {
    "collapsed": true,
    "slideshow": {
     "slide_type": "slide"
    }
   },
   "outputs": [],
   "source": [
    "# Import data\n",
    "df = pd.read_excel('Pokemon.xlsx') #, index_col=0)"
   ]
  },
  {
   "cell_type": "code",
   "execution_count": null,
   "metadata": {
    "slideshow": {
     "slide_type": "slide"
    }
   },
   "outputs": [],
   "source": [
    "# Show first 10 dataset\n",
    "df.head(n=10)"
   ]
  },
  {
   "cell_type": "markdown",
   "metadata": {},
   "source": [
    "Question 2: Show last 10 dataset"
   ]
  },
  {
   "cell_type": "code",
   "execution_count": null,
   "metadata": {},
   "outputs": [],
   "source": [
    "# Hint: change the function, head vs. ??\n",
    "df.??(n=10)"
   ]
  },
  {
   "cell_type": "code",
   "execution_count": null,
   "metadata": {
    "collapsed": true
   },
   "outputs": [],
   "source": [
    "# Re-indexing\n",
    "df = pd.read_excel('Pokemon.xlsx', index_col=0)"
   ]
  },
  {
   "cell_type": "code",
   "execution_count": null,
   "metadata": {},
   "outputs": [],
   "source": [
    "df.head()"
   ]
  },
  {
   "cell_type": "markdown",
   "metadata": {},
   "source": [
    "Data visualization by seaborn"
   ]
  },
  {
   "cell_type": "code",
   "execution_count": null,
   "metadata": {
    "scrolled": true
   },
   "outputs": [],
   "source": [
    "sns.regplot(x='Attack', y='Defense', data=df)"
   ]
  },
  {
   "cell_type": "code",
   "execution_count": null,
   "metadata": {},
   "outputs": [],
   "source": [
    "sns.regplot(x='Sp. Atk', y='Sp. Def', data=df)"
   ]
  },
  {
   "cell_type": "markdown",
   "metadata": {},
   "source": [
    "Question 3 : Try to plot two figures together"
   ]
  },
  {
   "cell_type": "code",
   "execution_count": null,
   "metadata": {},
   "outputs": [],
   "source": [
    "# Hint: use matplotlib subplot function \n",
    "\n",
    "fig, axs = plt.subplots(2, 1, figsize = (6,6))\n",
    "\n",
    "\n",
    "ax2 = plt.subplot2grid((2, 1), (1, 0))\n",
    "\n",
    "sns.regplot(x=\"Sp. Atk\", y =\"Sp. Def\", data=df,ax=ax2)\n"
   ]
  },
  {
   "cell_type": "code",
   "execution_count": null,
   "metadata": {},
   "outputs": [],
   "source": [
    "sns.set()\n",
    "sns.jointplot(x=\"Attack\", y =\"Defense\", data=df, kind=\"reg\", \n",
    "              xlim=(0, 200), ylim=(0, 200))"
   ]
  },
  {
   "cell_type": "markdown",
   "metadata": {},
   "source": [
    "Data visualization by using Plotly"
   ]
  },
  {
   "cell_type": "code",
   "execution_count": null,
   "metadata": {
    "scrolled": true
   },
   "outputs": [],
   "source": [
    "trace0 = go.Box(y=df[\"HP\"],name=\"HP\")\n",
    "trace1 = go.Box(y=df[\"Attack\"],name=\"Attack\")\n",
    "trace2 = go.Box(y=df[\"Defense\"],name=\"Defense\")\n",
    "trace3 = go.Box(y=df[\"Sp. Atk\"],name=\"Sp. Atk\")\n",
    "trace4 = go.Box(y=df[\"Sp. Def\"],name=\"Sp. Def\")\n",
    "trace5 = go.Box(y=df[\"Speed\"],name=\"Speed\")\n",
    "data = [trace0, trace1, trace2,trace3, trace4, trace5]\n",
    "iplot(data)"
   ]
  },
  {
   "cell_type": "markdown",
   "metadata": {},
   "source": [
    "Question 4: Try to create the same Boxplots by matplotlib and seaborn library"
   ]
  },
  {
   "cell_type": "code",
   "execution_count": null,
   "metadata": {},
   "outputs": [],
   "source": [
    "# Revise the code \n",
    "\n",
    "sns.boxplot(data=df)\n",
    "\n"
   ]
  },
  {
   "cell_type": "raw",
   "metadata": {},
   "source": [
    "Radar chart"
   ]
  },
  {
   "cell_type": "code",
   "execution_count": null,
   "metadata": {},
   "outputs": [],
   "source": [
    "x = df[df[\"Name\"] == \"Pikachu\"]\n",
    "data = [go.Scatterpolar(\n",
    "  r = [x['HP'].values[0],x['Attack'].values[0],x['Defense'].values[0],x['Sp. Atk'].values[0],x['Sp. Def'].values[0],x['Speed'].values[0],x[\"HP\"].values[0]],\n",
    "  theta = ['HP','Attack','Defense','Sp. Atk','Sp. Def','Speed','HP'],\n",
    "  fill = 'toself'\n",
    ")]\n",
    "\n",
    "layout = go.Layout(\n",
    "  polar = dict(\n",
    "    radialaxis = dict(\n",
    "      visible = True,\n",
    "      range = [0, 250]\n",
    "    )\n",
    "  ),\n",
    "  showlegend = False,\n",
    "  title = \"Stats of {}\".format(x.Name.values[0])\n",
    ")\n",
    "fig = go.Figure(data=data, layout=layout)\n",
    "iplot(fig, filename = \"Single Pokemon stats\")"
   ]
  },
  {
   "cell_type": "markdown",
   "metadata": {},
   "source": [
    "Question 5: Try to create the radar plot by matplotlib "
   ]
  },
  {
   "cell_type": "code",
   "execution_count": null,
   "metadata": {},
   "outputs": [],
   "source": [
    "# Revise the code\n",
    "# Use np.pi to replace pi\n",
    " \n",
    "# Set data\n",
    "df = pd.DataFrame({\n",
    "'group': ['A','B','C','D'],\n",
    "'var1': [38, 150, 30, 40],\n",
    "'var2': [29, 70, 90, 34],\n",
    "'var3': [80, 39, 23, 24],\n",
    "'var4': [70, 31, 33, 140],\n",
    "'var5': [28, 150, 32, 14],\n",
    "'var6': [160, 21, 40, 19]\n",
    "})\n",
    " \n",
    "# number of variable\n",
    "categories=list(df)[1:]\n",
    "N = len(categories)\n",
    " \n",
    "# We are going to plot the first line of the data frame.\n",
    "# But we need to repeat the first value to close the circular graph:\n",
    "values=df.loc[0].drop('group').values.flatten().tolist()\n",
    "values += values[:1]\n",
    "values\n",
    " \n",
    "# What will be the angle of each axis in the plot? (we divide the plot / number of variable)\n",
    "angles = [n / float(N) * 2 * np.pi for n in range(N)]\n",
    "angles += angles[:1]\n",
    " \n",
    "# Initialise the spider plot\n",
    "ax = plt.subplot(111, polar=True)\n",
    " \n",
    "# Draw one axe per variable + add labels labels yet\n",
    "plt.xticks(angles[:-1], categories, color='grey', size=9)\n",
    " \n",
    "# Draw ylabels\n",
    "ax.set_rlabel_position(0)\n",
    "plt.yticks([50,100,150, 200], [\"50\",\"100\",\"150\",\"200\"], color=\"grey\", size=10)\n",
    "plt.ylim(0,250)\n",
    " \n",
    "# Plot data\n",
    "ax.plot(angles, values, linewidth=1, linestyle='solid')\n",
    " \n",
    "# Fill area\n",
    "ax.fill(angles, values, 'b', alpha=0.1)\n"
   ]
  },
  {
   "cell_type": "markdown",
   "metadata": {},
   "source": [
    "Comparing the stats of 2 pokemon"
   ]
  },
  {
   "cell_type": "code",
   "execution_count": null,
   "metadata": {
    "collapsed": true
   },
   "outputs": [],
   "source": [
    "# Creating a method to compare 2 pokemon by defining a function\n",
    "\n",
    "def compare2pokemon(x,y):\n",
    "    x = df[df[\"Name\"] == x]\n",
    "    y = df[df[\"Name\"] == y]\n",
    "\n",
    "    trace0 = go.Scatterpolar(\n",
    "      r = [x['HP'].values[0],x['Attack'].values[0],x['Defense'].values[0],x['Sp. Atk'].values[0],\n",
    "           x['Sp. Def'].values[0],x['Speed'].values[0],x[\"HP\"].values[0]],\n",
    "      theta = ['HP','Attack','Defense','Sp. Atk','Sp. Def','Speed','HP'],\n",
    "      fill = 'toself',\n",
    "      name = x.Name.values[0]\n",
    "    )\n",
    "\n",
    "    trace1 = go.Scatterpolar(\n",
    "      r = [y['HP'].values[0],y['Attack'].values[0],y['Defense'].values[0],y['Sp. Atk'].values[0],\n",
    "           y['Sp. Def'].values[0],y['Speed'].values[0],y[\"HP\"].values[0]],\n",
    "      theta = ['HP','Attack','Defense','Sp. Atk','Sp. Def','Speed','HP'],\n",
    "      fill = 'toself',\n",
    "      name = y.Name.values[0]\n",
    "    )\n",
    "\n",
    "    data = [trace0, trace1]\n",
    "\n",
    "    layout = go.Layout(\n",
    "      polar = dict(\n",
    "        radialaxis = dict(\n",
    "          visible = True,\n",
    "          range = [0, 200]\n",
    "        )\n",
    "      ),\n",
    "      showlegend = True,\n",
    "      title = \"{} vs {}\".format(x.Name.values[0],y.Name.values[0])\n",
    "    )\n",
    "    fig = go.Figure(data=data, layout=layout)\n",
    "    iplot(fig, filename = \"Two Pokemon stats\")"
   ]
  },
  {
   "cell_type": "code",
   "execution_count": null,
   "metadata": {},
   "outputs": [],
   "source": [
    "compare2pokemon(\"Pikachu\", \"Raichu\")"
   ]
  },
  {
   "cell_type": "code",
   "execution_count": null,
   "metadata": {
    "collapsed": true
   },
   "outputs": [],
   "source": []
  }
 ],
 "metadata": {
  "celltoolbar": "Slideshow",
  "kernelspec": {
   "display_name": "Python 3",
   "language": "python",
   "name": "python3"
  },
  "language_info": {
   "codemirror_mode": {
    "name": "ipython",
    "version": 3
   },
   "file_extension": ".py",
   "mimetype": "text/x-python",
   "name": "python",
   "nbconvert_exporter": "python",
   "pygments_lexer": "ipython3",
   "version": "3.6.5"
  }
 },
 "nbformat": 4,
 "nbformat_minor": 2
}
